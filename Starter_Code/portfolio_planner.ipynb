{
 "cells": [
  {
   "cell_type": "code",
   "execution_count": 53,
   "metadata": {
    "collapsed": true
   },
   "outputs": [],
   "source": [
    "import numpy as np\n",
    "import pandas as pd\n",
    "from datetime import datetime, timedelta\n",
    "import matplotlib.pyplot as plt\n",
    "%matplotlib inline"
   ]
  },
  {
   "cell_type": "code",
   "execution_count": 54,
   "metadata": {},
   "outputs": [],
   "source": [
    "np.random.seed(42)"
   ]
  },
  {
   "cell_type": "markdown",
   "metadata": {},
   "source": [
    "# Portfolio Planner\n",
    "\n",
    "In this activity, you will use the iedfinance api to grab historical data for a 60/40 portfolio using `SPY` to represent the stock portion and `AGG` to represent the bonds."
   ]
  },
  {
   "cell_type": "code",
   "execution_count": 55,
   "metadata": {
    "collapsed": true
   },
   "outputs": [],
   "source": [
    "from iexfinance.stocks import get_historical_data\n",
    "import iexfinance as iex"
   ]
  },
  {
   "cell_type": "markdown",
   "metadata": {},
   "source": [
    "# Data Collection\n",
    "\n",
    "In this step, you will need to use the IEX api to fetch closing prices for the `SPY` and `AGG` tickers. Save the results as a pandas DataFrame"
   ]
  },
  {
   "cell_type": "code",
   "execution_count": 56,
   "metadata": {
    "collapsed": true
   },
   "outputs": [
    {
     "data": {
      "text/html": [
       "<div>\n",
       "<style scoped>\n",
       "    .dataframe tbody tr th:only-of-type {\n",
       "        vertical-align: middle;\n",
       "    }\n",
       "\n",
       "    .dataframe tbody tr th {\n",
       "        vertical-align: top;\n",
       "    }\n",
       "\n",
       "    .dataframe thead tr th {\n",
       "        text-align: left;\n",
       "    }\n",
       "\n",
       "    .dataframe thead tr:last-of-type th {\n",
       "        text-align: right;\n",
       "    }\n",
       "</style>\n",
       "<table border=\"1\" class=\"dataframe\">\n",
       "  <thead>\n",
       "    <tr>\n",
       "      <th></th>\n",
       "      <th colspan=\"5\" halign=\"left\">SPY</th>\n",
       "      <th colspan=\"5\" halign=\"left\">AGG</th>\n",
       "    </tr>\n",
       "    <tr>\n",
       "      <th></th>\n",
       "      <th>open</th>\n",
       "      <th>high</th>\n",
       "      <th>low</th>\n",
       "      <th>close</th>\n",
       "      <th>volume</th>\n",
       "      <th>open</th>\n",
       "      <th>high</th>\n",
       "      <th>low</th>\n",
       "      <th>close</th>\n",
       "      <th>volume</th>\n",
       "    </tr>\n",
       "    <tr>\n",
       "      <th>date</th>\n",
       "      <th></th>\n",
       "      <th></th>\n",
       "      <th></th>\n",
       "      <th></th>\n",
       "      <th></th>\n",
       "      <th></th>\n",
       "      <th></th>\n",
       "      <th></th>\n",
       "      <th></th>\n",
       "      <th></th>\n",
       "    </tr>\n",
       "  </thead>\n",
       "  <tbody>\n",
       "    <tr>\n",
       "      <th>2018-09-04</th>\n",
       "      <td>289.84</td>\n",
       "      <td>290.21</td>\n",
       "      <td>288.68</td>\n",
       "      <td>289.81</td>\n",
       "      <td>57594367</td>\n",
       "      <td>106.02</td>\n",
       "      <td>106.12</td>\n",
       "      <td>105.98</td>\n",
       "      <td>106.06</td>\n",
       "      <td>3164000</td>\n",
       "    </tr>\n",
       "    <tr>\n",
       "      <th>2018-09-05</th>\n",
       "      <td>289.41</td>\n",
       "      <td>289.64</td>\n",
       "      <td>287.89</td>\n",
       "      <td>289.03</td>\n",
       "      <td>72452437</td>\n",
       "      <td>106.05</td>\n",
       "      <td>106.08</td>\n",
       "      <td>105.96</td>\n",
       "      <td>106.01</td>\n",
       "      <td>2788329</td>\n",
       "    </tr>\n",
       "    <tr>\n",
       "      <th>2018-09-06</th>\n",
       "      <td>289.15</td>\n",
       "      <td>289.49</td>\n",
       "      <td>287.00</td>\n",
       "      <td>288.16</td>\n",
       "      <td>65909863</td>\n",
       "      <td>106.09</td>\n",
       "      <td>106.27</td>\n",
       "      <td>106.09</td>\n",
       "      <td>106.19</td>\n",
       "      <td>2248481</td>\n",
       "    </tr>\n",
       "    <tr>\n",
       "      <th>2018-09-07</th>\n",
       "      <td>286.98</td>\n",
       "      <td>288.70</td>\n",
       "      <td>286.71</td>\n",
       "      <td>287.60</td>\n",
       "      <td>73524824</td>\n",
       "      <td>105.92</td>\n",
       "      <td>105.94</td>\n",
       "      <td>105.81</td>\n",
       "      <td>105.81</td>\n",
       "      <td>2571740</td>\n",
       "    </tr>\n",
       "    <tr>\n",
       "      <th>2018-09-10</th>\n",
       "      <td>288.74</td>\n",
       "      <td>289.04</td>\n",
       "      <td>287.88</td>\n",
       "      <td>288.10</td>\n",
       "      <td>50210903</td>\n",
       "      <td>105.85</td>\n",
       "      <td>105.95</td>\n",
       "      <td>105.85</td>\n",
       "      <td>105.91</td>\n",
       "      <td>3305683</td>\n",
       "    </tr>\n",
       "  </tbody>\n",
       "</table>\n",
       "</div>"
      ],
      "text/plain": [
       "               SPY                                       AGG                  \\\n",
       "              open    high     low   close    volume    open    high     low   \n",
       "date                                                                           \n",
       "2018-09-04  289.84  290.21  288.68  289.81  57594367  106.02  106.12  105.98   \n",
       "2018-09-05  289.41  289.64  287.89  289.03  72452437  106.05  106.08  105.96   \n",
       "2018-09-06  289.15  289.49  287.00  288.16  65909863  106.09  106.27  106.09   \n",
       "2018-09-07  286.98  288.70  286.71  287.60  73524824  105.92  105.94  105.81   \n",
       "2018-09-10  288.74  289.04  287.88  288.10  50210903  105.85  105.95  105.85   \n",
       "\n",
       "                             \n",
       "             close   volume  \n",
       "date                         \n",
       "2018-09-04  106.06  3164000  \n",
       "2018-09-05  106.01  2788329  \n",
       "2018-09-06  106.19  2248481  \n",
       "2018-09-07  105.81  2571740  \n",
       "2018-09-10  105.91  3305683  "
      ]
     },
     "execution_count": 56,
     "metadata": {},
     "output_type": "execute_result"
    }
   ],
   "source": [
    "# Set the tickers\n",
    "list_of_tickers = [\"SPY\", \"AGG\"]\n",
    "# YOUR CODE HERE\n",
    "\n",
    "# Set start and end datetimes of 1 year, between now and 365 days ago.\n",
    "end_date = datetime.now()\n",
    "start_date = end_date + timedelta(-365)\n",
    "\n",
    "# Get historical data for SPY and AGG and print preview\n",
    "tickers_df = get_historical_data(list_of_tickers, start_date, end_date,  output_format='pandas')\n",
    "tickers_df.head()"
   ]
  },
  {
   "cell_type": "markdown",
   "metadata": {},
   "source": [
    "# Monte Carlo Simulation\n",
    "\n",
    "In this step, you will run Monte Carlo Simulations for your portfolio to model portfolio performance at different retirement ages. \n",
    "\n",
    "Complete the following steps:\n",
    "1. Calculate the daily returns for the SPY and AGG closing prices.\n",
    "2. Calculate volatility for both the SPY and AGG closing prices.\n",
    "3. Find the last day's closing price for both stocks and save those as variables.\n",
    "4. Run a Monte Carlo Simulation of at least 100 iterations and generate at least 20 years of closing prices\n",
    "\n",
    "### HINTS:\n",
    "There are 252 trading days per year, so the number of records to generate for each Monte Carlo run will be 252 days * 20 years"
   ]
  },
  {
   "cell_type": "code",
   "execution_count": 57,
   "metadata": {},
   "outputs": [
    {
     "data": {
      "text/html": [
       "<div>\n",
       "<style scoped>\n",
       "    .dataframe tbody tr th:only-of-type {\n",
       "        vertical-align: middle;\n",
       "    }\n",
       "\n",
       "    .dataframe tbody tr th {\n",
       "        vertical-align: top;\n",
       "    }\n",
       "\n",
       "    .dataframe thead tr th {\n",
       "        text-align: left;\n",
       "    }\n",
       "\n",
       "    .dataframe thead tr:last-of-type th {\n",
       "        text-align: right;\n",
       "    }\n",
       "</style>\n",
       "<table border=\"1\" class=\"dataframe\">\n",
       "  <thead>\n",
       "    <tr>\n",
       "      <th></th>\n",
       "      <th>SPY</th>\n",
       "      <th>AGG</th>\n",
       "    </tr>\n",
       "    <tr>\n",
       "      <th></th>\n",
       "      <th>close</th>\n",
       "      <th>close</th>\n",
       "    </tr>\n",
       "    <tr>\n",
       "      <th>date</th>\n",
       "      <th></th>\n",
       "      <th></th>\n",
       "    </tr>\n",
       "  </thead>\n",
       "  <tbody>\n",
       "    <tr>\n",
       "      <th>2018-09-05</th>\n",
       "      <td>-0.002691</td>\n",
       "      <td>-0.000471</td>\n",
       "    </tr>\n",
       "    <tr>\n",
       "      <th>2018-09-06</th>\n",
       "      <td>-0.003010</td>\n",
       "      <td>0.001698</td>\n",
       "    </tr>\n",
       "    <tr>\n",
       "      <th>2018-09-07</th>\n",
       "      <td>-0.001943</td>\n",
       "      <td>-0.003578</td>\n",
       "    </tr>\n",
       "    <tr>\n",
       "      <th>2018-09-10</th>\n",
       "      <td>0.001739</td>\n",
       "      <td>0.000945</td>\n",
       "    </tr>\n",
       "    <tr>\n",
       "      <th>2018-09-11</th>\n",
       "      <td>0.003297</td>\n",
       "      <td>-0.001700</td>\n",
       "    </tr>\n",
       "  </tbody>\n",
       "</table>\n",
       "</div>"
      ],
      "text/plain": [
       "                 SPY       AGG\n",
       "               close     close\n",
       "date                          \n",
       "2018-09-05 -0.002691 -0.000471\n",
       "2018-09-06 -0.003010  0.001698\n",
       "2018-09-07 -0.001943 -0.003578\n",
       "2018-09-10  0.001739  0.000945\n",
       "2018-09-11  0.003297 -0.001700"
      ]
     },
     "execution_count": 57,
     "metadata": {},
     "output_type": "execute_result"
    }
   ],
   "source": [
    "# Calculate the daily roi for the stocks\n",
    "# YOUR CODE HERE\n",
    "\n",
    "# Use the `drop` function with the `level` parameter to drop extra columns in the multi-index DataFrame\n",
    "tickers_df.drop(columns=['open', 'high', 'low', 'volume'], level=1, inplace=True)\n",
    "\n",
    "# Use the 'pct_change' function to calculate daily returns of SPY and AGG and drop nulls with 'dropna'\n",
    "# and print preview\n",
    "daily_roi = tickers_df.pct_change().dropna()\n",
    "daily_roi.head()"
   ]
  },
  {
   "cell_type": "code",
   "execution_count": 58,
   "metadata": {
    "collapsed": true
   },
   "outputs": [
    {
     "data": {
      "text/plain": [
       "0.010552203289006582"
      ]
     },
     "execution_count": 58,
     "metadata": {},
     "output_type": "execute_result"
    }
   ],
   "source": [
    "# Calculate volatility\n",
    "# YOUR CODE HERE\n",
    "\n",
    "# Use the 'std' function to calculate the standard deviation of daily returns for SPY and AGG\n",
    "std_dev_daily_roi_spy = daily_roi.std()['SPY']['close']\n",
    "std_dev_daily_roi_agg = daily_roi.std()['AGG']['close']\n",
    "\n",
    "# Print standard deviation for SPY\n",
    "std_dev_daily_roi_spy"
   ]
  },
  {
   "cell_type": "code",
   "execution_count": 59,
   "metadata": {},
   "outputs": [
    {
     "data": {
      "text/plain": [
       "0.001841397672134793"
      ]
     },
     "execution_count": 59,
     "metadata": {},
     "output_type": "execute_result"
    }
   ],
   "source": [
    "# Print standard deviation for AGG\n",
    "std_dev_daily_roi_agg"
   ]
  },
  {
   "cell_type": "code",
   "execution_count": 60,
   "metadata": {},
   "outputs": [
    {
     "data": {
      "text/html": [
       "<div>\n",
       "<style scoped>\n",
       "    .dataframe tbody tr th:only-of-type {\n",
       "        vertical-align: middle;\n",
       "    }\n",
       "\n",
       "    .dataframe tbody tr th {\n",
       "        vertical-align: top;\n",
       "    }\n",
       "\n",
       "    .dataframe thead tr th {\n",
       "        text-align: left;\n",
       "    }\n",
       "\n",
       "    .dataframe thead tr:last-of-type th {\n",
       "        text-align: right;\n",
       "    }\n",
       "</style>\n",
       "<table border=\"1\" class=\"dataframe\">\n",
       "  <thead>\n",
       "    <tr>\n",
       "      <th></th>\n",
       "      <th>SPY</th>\n",
       "      <th>AGG</th>\n",
       "    </tr>\n",
       "    <tr>\n",
       "      <th></th>\n",
       "      <th>close</th>\n",
       "      <th>close</th>\n",
       "    </tr>\n",
       "    <tr>\n",
       "      <th>date</th>\n",
       "      <th></th>\n",
       "      <th></th>\n",
       "    </tr>\n",
       "  </thead>\n",
       "  <tbody>\n",
       "    <tr>\n",
       "      <th>2019-08-27</th>\n",
       "      <td>286.87</td>\n",
       "      <td>114.09</td>\n",
       "    </tr>\n",
       "    <tr>\n",
       "      <th>2019-08-28</th>\n",
       "      <td>288.89</td>\n",
       "      <td>114.10</td>\n",
       "    </tr>\n",
       "    <tr>\n",
       "      <th>2019-08-29</th>\n",
       "      <td>292.58</td>\n",
       "      <td>114.03</td>\n",
       "    </tr>\n",
       "    <tr>\n",
       "      <th>2019-08-30</th>\n",
       "      <td>292.45</td>\n",
       "      <td>114.13</td>\n",
       "    </tr>\n",
       "    <tr>\n",
       "      <th>2019-09-03</th>\n",
       "      <td>290.74</td>\n",
       "      <td>113.84</td>\n",
       "    </tr>\n",
       "  </tbody>\n",
       "</table>\n",
       "</div>"
      ],
      "text/plain": [
       "               SPY     AGG\n",
       "             close   close\n",
       "date                      \n",
       "2019-08-27  286.87  114.09\n",
       "2019-08-28  288.89  114.10\n",
       "2019-08-29  292.58  114.03\n",
       "2019-08-30  292.45  114.13\n",
       "2019-09-03  290.74  113.84"
      ]
     },
     "execution_count": 60,
     "metadata": {},
     "output_type": "execute_result"
    }
   ],
   "source": [
    "# Print 'tail' of ticker DataFrame for comparison for last closing price\n",
    "tickers_df.tail()"
   ]
  },
  {
   "cell_type": "code",
   "execution_count": 61,
   "metadata": {
    "collapsed": true
   },
   "outputs": [
    {
     "data": {
      "text/plain": [
       "290.74"
      ]
     },
     "execution_count": 61,
     "metadata": {},
     "output_type": "execute_result"
    }
   ],
   "source": [
    "# Save the last day's closing price\n",
    "# YOUR CODE HERE\n",
    "\n",
    "# Set last closing prices of SPY and AGG\n",
    "spy_last_price = tickers_df['SPY']['close'][-1]\n",
    "agg_last_price = tickers_df['AGG']['close'][-1]\n",
    "\n",
    "# Compare last closing price of SPY to ticker DataFrame\n",
    "spy_last_price"
   ]
  },
  {
   "cell_type": "code",
   "execution_count": 62,
   "metadata": {},
   "outputs": [
    {
     "data": {
      "text/plain": [
       "113.84"
      ]
     },
     "execution_count": 62,
     "metadata": {},
     "output_type": "execute_result"
    }
   ],
   "source": [
    "# Compare last closing price of AGG to ticker DataFrame\n",
    "agg_last_price"
   ]
  },
  {
   "cell_type": "code",
   "execution_count": 63,
   "metadata": {
    "collapsed": true
   },
   "outputs": [],
   "source": [
    "# Setup the Monte Carlo Parameters\n",
    "number_simulations = 100\n",
    "number_records = 252 * 30\n",
    "monte_carlo = pd.DataFrame()\n",
    "\n",
    "# Initialize empty DataFrame to hold simulated prices for each simulation\n",
    "simulated_price_df = pd.DataFrame()\n",
    "portfolio_cumulative_returns = pd.DataFrame()\n",
    "\n",
    "# Use the 'mean' function to calculate the mean of daily returns for SPY and AGG\n",
    "avg_daily_roi_spy = daily_roi.mean()['SPY']['close']\n",
    "avg_daily_roi_agg = daily_roi.mean()['AGG']['close']"
   ]
  },
  {
   "cell_type": "code",
   "execution_count": 64,
   "metadata": {},
   "outputs": [
    {
     "data": {
      "text/html": [
       "<div>\n",
       "<style scoped>\n",
       "    .dataframe tbody tr th:only-of-type {\n",
       "        vertical-align: middle;\n",
       "    }\n",
       "\n",
       "    .dataframe tbody tr th {\n",
       "        vertical-align: top;\n",
       "    }\n",
       "\n",
       "    .dataframe thead th {\n",
       "        text-align: right;\n",
       "    }\n",
       "</style>\n",
       "<table border=\"1\" class=\"dataframe\">\n",
       "  <thead>\n",
       "    <tr style=\"text-align: right;\">\n",
       "      <th></th>\n",
       "      <th>0</th>\n",
       "      <th>1</th>\n",
       "      <th>2</th>\n",
       "      <th>3</th>\n",
       "      <th>4</th>\n",
       "      <th>5</th>\n",
       "      <th>6</th>\n",
       "      <th>7</th>\n",
       "      <th>8</th>\n",
       "      <th>9</th>\n",
       "      <th>...</th>\n",
       "      <th>90</th>\n",
       "      <th>91</th>\n",
       "      <th>92</th>\n",
       "      <th>93</th>\n",
       "      <th>94</th>\n",
       "      <th>95</th>\n",
       "      <th>96</th>\n",
       "      <th>97</th>\n",
       "      <th>98</th>\n",
       "      <th>99</th>\n",
       "    </tr>\n",
       "  </thead>\n",
       "  <tbody>\n",
       "    <tr>\n",
       "      <th>0</th>\n",
       "      <td>1.000000</td>\n",
       "      <td>1.000000</td>\n",
       "      <td>1.000000</td>\n",
       "      <td>1.000000</td>\n",
       "      <td>1.000000</td>\n",
       "      <td>1.000000</td>\n",
       "      <td>1.000000</td>\n",
       "      <td>1.000000</td>\n",
       "      <td>1.000000</td>\n",
       "      <td>1.000000</td>\n",
       "      <td>...</td>\n",
       "      <td>1.000000</td>\n",
       "      <td>1.000000</td>\n",
       "      <td>1.000000</td>\n",
       "      <td>1.000000</td>\n",
       "      <td>1.000000</td>\n",
       "      <td>1.000000</td>\n",
       "      <td>1.000000</td>\n",
       "      <td>1.000000</td>\n",
       "      <td>1.000000</td>\n",
       "      <td>1.000000</td>\n",
       "    </tr>\n",
       "    <tr>\n",
       "      <th>1</th>\n",
       "      <td>1.003198</td>\n",
       "      <td>0.993741</td>\n",
       "      <td>0.990602</td>\n",
       "      <td>0.998563</td>\n",
       "      <td>1.005974</td>\n",
       "      <td>1.009201</td>\n",
       "      <td>1.012315</td>\n",
       "      <td>0.993407</td>\n",
       "      <td>1.001846</td>\n",
       "      <td>0.998759</td>\n",
       "      <td>...</td>\n",
       "      <td>1.000506</td>\n",
       "      <td>1.001795</td>\n",
       "      <td>0.993316</td>\n",
       "      <td>1.001625</td>\n",
       "      <td>0.990305</td>\n",
       "      <td>0.996395</td>\n",
       "      <td>1.010689</td>\n",
       "      <td>1.011361</td>\n",
       "      <td>1.009089</td>\n",
       "      <td>1.012340</td>\n",
       "    </tr>\n",
       "    <tr>\n",
       "      <th>2</th>\n",
       "      <td>1.008593</td>\n",
       "      <td>0.998084</td>\n",
       "      <td>0.988739</td>\n",
       "      <td>0.997466</td>\n",
       "      <td>1.010047</td>\n",
       "      <td>0.996492</td>\n",
       "      <td>1.004595</td>\n",
       "      <td>0.979217</td>\n",
       "      <td>1.000312</td>\n",
       "      <td>1.009776</td>\n",
       "      <td>...</td>\n",
       "      <td>0.995275</td>\n",
       "      <td>1.005918</td>\n",
       "      <td>0.984248</td>\n",
       "      <td>0.995511</td>\n",
       "      <td>0.988827</td>\n",
       "      <td>0.990458</td>\n",
       "      <td>1.002063</td>\n",
       "      <td>1.012489</td>\n",
       "      <td>1.007033</td>\n",
       "      <td>1.016743</td>\n",
       "    </tr>\n",
       "    <tr>\n",
       "      <th>3</th>\n",
       "      <td>1.007080</td>\n",
       "      <td>0.997692</td>\n",
       "      <td>0.992948</td>\n",
       "      <td>0.989065</td>\n",
       "      <td>1.008824</td>\n",
       "      <td>1.000691</td>\n",
       "      <td>1.008971</td>\n",
       "      <td>0.971226</td>\n",
       "      <td>0.999526</td>\n",
       "      <td>1.019605</td>\n",
       "      <td>...</td>\n",
       "      <td>1.002026</td>\n",
       "      <td>1.002201</td>\n",
       "      <td>0.975103</td>\n",
       "      <td>1.001466</td>\n",
       "      <td>0.984663</td>\n",
       "      <td>0.991250</td>\n",
       "      <td>0.995243</td>\n",
       "      <td>1.013211</td>\n",
       "      <td>1.008430</td>\n",
       "      <td>1.025985</td>\n",
       "    </tr>\n",
       "    <tr>\n",
       "      <th>4</th>\n",
       "      <td>1.017874</td>\n",
       "      <td>1.000894</td>\n",
       "      <td>0.987277</td>\n",
       "      <td>0.995989</td>\n",
       "      <td>1.009847</td>\n",
       "      <td>0.993197</td>\n",
       "      <td>1.006385</td>\n",
       "      <td>0.967554</td>\n",
       "      <td>1.009485</td>\n",
       "      <td>1.005010</td>\n",
       "      <td>...</td>\n",
       "      <td>1.008225</td>\n",
       "      <td>0.999567</td>\n",
       "      <td>0.973614</td>\n",
       "      <td>1.006204</td>\n",
       "      <td>0.975785</td>\n",
       "      <td>0.993815</td>\n",
       "      <td>0.983910</td>\n",
       "      <td>1.014447</td>\n",
       "      <td>1.012546</td>\n",
       "      <td>1.019880</td>\n",
       "    </tr>\n",
       "  </tbody>\n",
       "</table>\n",
       "<p>5 rows × 100 columns</p>\n",
       "</div>"
      ],
      "text/plain": [
       "         0         1         2         3         4         5         6   \\\n",
       "0  1.000000  1.000000  1.000000  1.000000  1.000000  1.000000  1.000000   \n",
       "1  1.003198  0.993741  0.990602  0.998563  1.005974  1.009201  1.012315   \n",
       "2  1.008593  0.998084  0.988739  0.997466  1.010047  0.996492  1.004595   \n",
       "3  1.007080  0.997692  0.992948  0.989065  1.008824  1.000691  1.008971   \n",
       "4  1.017874  1.000894  0.987277  0.995989  1.009847  0.993197  1.006385   \n",
       "\n",
       "         7         8         9   ...        90        91        92        93  \\\n",
       "0  1.000000  1.000000  1.000000  ...  1.000000  1.000000  1.000000  1.000000   \n",
       "1  0.993407  1.001846  0.998759  ...  1.000506  1.001795  0.993316  1.001625   \n",
       "2  0.979217  1.000312  1.009776  ...  0.995275  1.005918  0.984248  0.995511   \n",
       "3  0.971226  0.999526  1.019605  ...  1.002026  1.002201  0.975103  1.001466   \n",
       "4  0.967554  1.009485  1.005010  ...  1.008225  0.999567  0.973614  1.006204   \n",
       "\n",
       "         94        95        96        97        98        99  \n",
       "0  1.000000  1.000000  1.000000  1.000000  1.000000  1.000000  \n",
       "1  0.990305  0.996395  1.010689  1.011361  1.009089  1.012340  \n",
       "2  0.988827  0.990458  1.002063  1.012489  1.007033  1.016743  \n",
       "3  0.984663  0.991250  0.995243  1.013211  1.008430  1.025985  \n",
       "4  0.975785  0.993815  0.983910  1.014447  1.012546  1.019880  \n",
       "\n",
       "[5 rows x 100 columns]"
      ]
     },
     "execution_count": 64,
     "metadata": {},
     "output_type": "execute_result"
    }
   ],
   "source": [
    "# Run the Monte Carlo Simulation\n",
    "for x in range(number_simulations):\n",
    "    \n",
    "    # YOUR CODE HERE\n",
    "    \n",
    "    # Initialize the simulated prices list with the last closing price of SPY and AGG\n",
    "    simulated_spy_prices = [spy_last_price]\n",
    "    simulated_agg_prices = [agg_last_price]\n",
    "    \n",
    "    # Simulate the returns for 252 days for 30 years\n",
    "    for i in range(number_records):\n",
    "        \n",
    "        # Calculate the simulated price using the last price within the list\n",
    "        simulated_spy_price = simulated_spy_prices[-1] * (1 + np.random.normal(avg_daily_roi_spy, std_dev_daily_roi_spy))\n",
    "        simulated_agg_price = simulated_agg_prices[-1] * (1 + np.random.normal(avg_daily_roi_agg, std_dev_daily_roi_agg))\n",
    "        \n",
    "        # Append the simulated price to the list\n",
    "        simulated_spy_prices.append(simulated_spy_price)\n",
    "        simulated_agg_prices.append(simulated_agg_price)\n",
    "    \n",
    "    # Append a simulated price of each simulation to DataFrame\n",
    "    simulated_price_df[\"SPY prices\"] = pd.Series(simulated_spy_prices)\n",
    "    simulated_price_df[\"AGG prices\"] = pd.Series(simulated_agg_prices)\n",
    "    \n",
    "    # Calculate the daily ROI of simulated prices\n",
    "    simulated_daily_roi = simulated_price_df.pct_change()\n",
    "    \n",
    "    # Set the portfolio weights (60% SPY; 40% AGG)\n",
    "    weights = [0.60, 0.40]\n",
    "\n",
    "    # Use the 'dot' function with the weights to multiply weights with each column's simulated daily ROI\n",
    "    portfolio_daily_roi = simulated_daily_roi.dot(weights)\n",
    "    \n",
    "    # Calculate the normalized, cumulative return series\n",
    "    portfolio_cumulative_returns[x] = (1 + portfolio_daily_roi.fillna(0)).cumprod()\n",
    "\n",
    "# Print records from the DataFrame\n",
    "portfolio_cumulative_returns.head()"
   ]
  },
  {
   "cell_type": "code",
   "execution_count": 65,
   "metadata": {},
   "outputs": [
    {
     "data": {
      "image/png": "[encoded data removed]",
      "text/plain": [
       "<Figure size 432x288 with 1 Axes>"
      ]
     },
     "metadata": {
      "needs_background": "light"
     },
     "output_type": "display_data"
    }
   ],
   "source": [
    "# Visualize the Simulation\n",
    "# YOUR CODE HERE\n",
    "\n",
    "# Use the 'plot' function to plot 100 simulations of the potential trajectories of the portfolio based on 30 years\n",
    "plot_title = f\"{x+1} Simulations of Cumulative Portfolio Return Trajectories Over 30 years\"\n",
    "portfolio_cumulative_returns.plot(legend=None, title=plot_title)\n",
    "\n",
    "# Save image of chart\n",
    "plt.savefig('portfolio_cumulative_returns.png', bbox_inches = 'tight')"
   ]
  },
  {
   "cell_type": "code",
   "execution_count": 66,
   "metadata": {},
   "outputs": [
    {
     "data": {
      "text/plain": [
       "0    3.361799\n",
       "1    2.612700\n",
       "2    4.000198\n",
       "3    4.374724\n",
       "4    3.764573\n",
       "Name: 7560, dtype: float64"
      ]
     },
     "execution_count": 66,
     "metadata": {},
     "output_type": "execute_result"
    }
   ],
   "source": [
    "# Select the last row for the cumulative returns (cumulative returns at 30 years)\n",
    "# YOUR CODE HERE\n",
    "\n",
    "# Select the last row for the cumulative returns (30 years)\n",
    "thirty_year_cumulative_returns = portfolio_cumulative_returns.iloc[-1, :]\n",
    "thirty_year_cumulative_returns.head()"
   ]
  },
  {
   "cell_type": "code",
   "execution_count": 68,
   "metadata": {},
   "outputs": [
    {
     "data": {
      "text/plain": [
       "0    1.674482\n",
       "1    1.955566\n",
       "2    1.385808\n",
       "3    2.248488\n",
       "4    2.466453\n",
       "Name: 5039, dtype: float64"
      ]
     },
     "execution_count": 68,
     "metadata": {},
     "output_type": "execute_result"
    }
   ],
   "source": [
    "# Select the last row for the cumulative returns (cumulative returns at 20 years)\n",
    "# YOUR CODE HERE\n",
    "\n",
    "# Select the row for the cumulative returns (20 years)\n",
    "# Pulled up index 5039 (252 trading days * 20 years = 5040, -1 since you start at zero)\n",
    "twenty_year_cumulative_returns = portfolio_cumulative_returns.iloc[5039, :]\n",
    "twenty_year_cumulative_returns.head()"
   ]
  },
  {
   "cell_type": "code",
   "execution_count": 69,
   "metadata": {},
   "outputs": [
    {
     "data": {
      "text/plain": [
       "0.05    0.799111\n",
       "0.95    3.552662\n",
       "Name: 5039, dtype: float64"
      ]
     },
     "execution_count": 69,
     "metadata": {},
     "output_type": "execute_result"
    }
   ],
   "source": [
    "# Display the 90% confidence interval for the ending returns\n",
    "# YOUR CODE HERE\n",
    "\n",
    "# 'quantile' function to calculate the 90% confidence interval for cumulative returns and print\n",
    "confidence_interval = twenty_year_cumulative_returns.quantile(q=[0.05, 0.95])\n",
    "confidence_interval"
   ]
  },
  {
   "cell_type": "code",
   "execution_count": 70,
   "metadata": {},
   "outputs": [
    {
     "data": {
      "image/png": "[encoded data removed]",
      "text/plain": [
       "<Figure size 432x288 with 1 Axes>"
      ]
     },
     "metadata": {
      "needs_background": "light"
     },
     "output_type": "display_data"
    }
   ],
   "source": [
    "# Visualize the distribution of the ending returns\n",
    "# YOUR CODE HERE\n",
    "\n",
    "# 'plot' function to create a probability distribution histogram of cumulative returns\n",
    "# with markings for a 90% confidence interval\n",
    "hist_title = 'Probability of 20-Year Cumulative Returns with a 90% Confidence Interval'\n",
    "plt.figure();\n",
    "twenty_year_cumulative_returns.plot(kind='hist', title=hist_title, density=True, bins=10)\n",
    "plt.axvline(confidence_interval.iloc[0], color='r')\n",
    "plt.axvline(confidence_interval.iloc[1], color='r')\n",
    "\n",
    "# Save image of chart\n",
    "plt.savefig('twenty_year_cumulative_returns.png', bbox_inches = 'tight')"
   ]
  },
  {
   "cell_type": "markdown",
   "metadata": {},
   "source": [
    "---"
   ]
  },
  {
   "cell_type": "markdown",
   "metadata": {},
   "source": [
    "# Retirement Analysis\n",
    "\n",
    "In this section, you will use the monte carlo model to answer the following retirement planning questions:\n",
    "\n",
    "1. What are the expected cumulative returns at 30 years for the 10th, 50th, and 90th percentiles?\n",
    "2. Given an initial investment of `$20,000`, what is the expected portfolio return in dollars at the 10th, 50th, and 90th percentiles?\n",
    "3. Given the current projected annual income from the Plaid analysis, will a 4% withdraw rate from the retirement portfolio meet or exceed that value at the 10th percentile?\n",
    "4. How would a 50% increase in the initial investment amount affect the 4% retirement withdrawal?"
   ]
  },
  {
   "cell_type": "markdown",
   "metadata": {},
   "source": [
    "### What are the expected cumulative returns at 30 years for the 10th, 50th, and 90th percentiles?"
   ]
  },
  {
   "cell_type": "code",
   "execution_count": 71,
   "metadata": {},
   "outputs": [
    {
     "data": {
      "text/plain": [
       "1.240974571859969"
      ]
     },
     "execution_count": 71,
     "metadata": {},
     "output_type": "execute_result"
    }
   ],
   "source": [
    "# YOUR CODE HERE\n",
    "\n",
    "# 'quantile' function to calculate the 10th percentile for cumulative returns and print\n",
    "tenth_percentile = thirty_year_cumulative_returns.quantile(q=0.1)\n",
    "tenth_percentile"
   ]
  },
  {
   "cell_type": "code",
   "execution_count": 72,
   "metadata": {},
   "outputs": [
    {
     "data": {
      "text/plain": [
       "2.6227538557840377"
      ]
     },
     "execution_count": 72,
     "metadata": {},
     "output_type": "execute_result"
    }
   ],
   "source": [
    "# 'quantile' function to calculate the 50th percentile for cumulative returns and print\n",
    "fiftieth_percentile = thirty_year_cumulative_returns.quantile(q=0.5)\n",
    "fiftieth_percentile"
   ]
  },
  {
   "cell_type": "code",
   "execution_count": 73,
   "metadata": {},
   "outputs": [
    {
     "data": {
      "text/plain": [
       "4.558354320915512"
      ]
     },
     "execution_count": 73,
     "metadata": {},
     "output_type": "execute_result"
    }
   ],
   "source": [
    "# 'quantile' function to calculate the 90th percentile for cumulative returns and print\n",
    "ninetieth_percentile = thirty_year_cumulative_returns.quantile(q=0.9)\n",
    "ninetieth_percentile"
   ]
  },
  {
   "cell_type": "markdown",
   "metadata": {},
   "source": [
    "### Given an initial investment of `$20,000`, what is the expected portfolio return in dollars at the 10th, 50th, and 90th percentiles?"
   ]
  },
  {
   "cell_type": "code",
   "execution_count": 74,
   "metadata": {},
   "outputs": [
    {
     "name": "stdout",
     "output_type": "stream",
     "text": [
      "Given an initial investment of $20,000 in the portfolio over the next 30 years, the return at the 10th percentile would be $44819.49\n"
     ]
    }
   ],
   "source": [
    "# YOUR CODE HERE\n",
    "\n",
    "# Set initial investment\n",
    "initial_investment = 20000\n",
    "\n",
    "# Calculate portfolio amount at 10th percentile return\n",
    "tenth_percentile_investment = round(initial_investment + (initial_investment * tenth_percentile), 2)\n",
    "                                                    \n",
    "# Print the results\n",
    "print(f\"Given an initial investment of $20,000 in the portfolio\"\n",
    "      f\" over the next 30 years, the return at the 10th percentile would \"\n",
    "      f\"be ${tenth_percentile_investment}\")"
   ]
  },
  {
   "cell_type": "code",
   "execution_count": 75,
   "metadata": {},
   "outputs": [
    {
     "name": "stdout",
     "output_type": "stream",
     "text": [
      "Given an initial investment of $20,000 in the portfolio over the next 30 years, the return at the 50th percentile would be $72455.08\n"
     ]
    }
   ],
   "source": [
    "# Calculate portfolio amount at 50th percentile return\n",
    "fiftieth_percentile_investment = round(initial_investment + (initial_investment * fiftieth_percentile), 2)\n",
    "                                                    \n",
    "# Print the results\n",
    "print(f\"Given an initial investment of $20,000 in the portfolio\"\n",
    "      f\" over the next 30 years, the return at the 50th percentile would \"\n",
    "      f\"be ${fiftieth_percentile_investment}\")"
   ]
  },
  {
   "cell_type": "code",
   "execution_count": 76,
   "metadata": {},
   "outputs": [
    {
     "name": "stdout",
     "output_type": "stream",
     "text": [
      "Given an initial investment of $20,000 in the portfolio over the next 30 years, the return at the 90th percentile would be $111167.09\n"
     ]
    }
   ],
   "source": [
    "# Calculate portfolio amount at 90th percentile return\n",
    "ninetieth_percentile_investment = round(initial_investment + (initial_investment * ninetieth_percentile), 2)\n",
    "                                                    \n",
    "# Print the results\n",
    "print(f\"Given an initial investment of $20,000 in the portfolio\"\n",
    "      f\" over the next 30 years, the return at the 90th percentile would \"\n",
    "      f\"be ${ninetieth_percentile_investment}\")"
   ]
  },
  {
   "cell_type": "markdown",
   "metadata": {},
   "source": [
    "### Given the current projected annual income from the Plaid analysis, will a 4% withdraw rate from the retirement portfolio meet or exceed that value at the 10th percentile?\n",
    "\n",
    "Note: This is effectively saying that 90% of the expected returns will be greater than the return at the 10th percentile, so this can help measure the uncertainty about having enough funds at retirement"
   ]
  },
  {
   "cell_type": "code",
   "execution_count": 77,
   "metadata": {},
   "outputs": [
    {
     "name": "stdout",
     "output_type": "stream",
     "text": [
      "There is a 90% chance that an initial investment of $20,000 in the portfolio over the next 30 years will end within the range of $40690.81 and $145375.91 with a lower withdraw value of $1627.63 and upper of $5815.04, both at 4%. On the other hand, the return at the 10th percentile is $44819.49, with a withdraw value of $1792.78 at 4%. Therefore, the lower withdraw value will still not exceed the 10th percentile return value but the upper withdraw value will.\n"
     ]
    }
   ],
   "source": [
    "# YOUR CODE HERE\n",
    "\n",
    "# Calculate portfolio amount at 90% confidence return with 30 year cumulative returns\n",
    "thirty_year_confidence_interval = thirty_year_cumulative_returns.quantile(q=[0.05, 0.95])\n",
    "\n",
    "# Calculate portfolio amount at 90% confidence return\n",
    "investment_pnl_lower_bound = round(initial_investment + (initial_investment * thirty_year_confidence_interval.iloc[0]), 2)\n",
    "investment_pnl_upper_bound = round(initial_investment + (initial_investment * thirty_year_confidence_interval.iloc[1]), 2)\n",
    "\n",
    "# Initialize variable for withdraw rate\n",
    "withdraw_rate = 0.04\n",
    "\n",
    "# Calculate values of withdraw rate for 90% confidence returns and 10th percentile returns\n",
    "ninetieth_lower_withdraw = round((investment_pnl_lower_bound * withdraw_rate), 2)\n",
    "ninetieth_upper_withdraw = round((investment_pnl_upper_bound * withdraw_rate), 2)\n",
    "tenth_percentile_withdraw = round((tenth_percentile_investment * withdraw_rate), 2)\n",
    "                                                    \n",
    "# Print the results\n",
    "print(f\"There is a 90% chance that an initial investment of $20,000 in the portfolio\"\n",
    "      f\" over the next 30 years will end within the range of\"\n",
    "      f\" ${investment_pnl_lower_bound} and ${investment_pnl_upper_bound}\"\n",
    "      f\" with a lower withdraw value of ${ninetieth_lower_withdraw} and upper of ${ninetieth_upper_withdraw},\"\n",
    "      f\" both at 4%.\"\n",
    "      f\" On the other hand, the return at the 10th percentile is\"\n",
    "      f\" ${tenth_percentile_investment}, with a withdraw value of ${tenth_percentile_withdraw} at 4%.\"\n",
    "      f\" Therefore, the lower withdraw value will still not exceed the 10th percentile return value\"\n",
    "      f\" but the upper withdraw value will.\")"
   ]
  },
  {
   "cell_type": "markdown",
   "metadata": {},
   "source": [
    "### How would a 50% increase in the initial investment amount affect the 4% retirement withdrawal?"
   ]
  },
  {
   "cell_type": "code",
   "execution_count": 78,
   "metadata": {},
   "outputs": [
    {
     "name": "stdout",
     "output_type": "stream",
     "text": [
      "There is a 90% chance that with an updated initial investment of $30,000 in the portfolio over the next 30 years will end within the range of $61036.22 and $218063.86 with a lower withdraw value of $2441.45 and upper of $8722.55, both at 4%. Therefore, the lower limit will still not exceed the new return at the 10th percentile of $67229.24, after also having been increased to $2689.17, but the upper limit still will.\n"
     ]
    }
   ],
   "source": [
    "# YOUR CODE HERE\n",
    "\n",
    "# Set initial investment with a 50% increase\n",
    "increased_initial_investment = 30000\n",
    "\n",
    "# Calculate portfolio amount at 10th percentile return with a 50% increase\n",
    "new_tenth_percentile_investment = round(increased_initial_investment + (increased_initial_investment * tenth_percentile), 2)\n",
    "                                                    \n",
    "# Calculate portfolio amount at 90% confidence return with a 50% increase\n",
    "new_investment_pnl_lower_bound = round(increased_initial_investment + (increased_initial_investment * thirty_year_confidence_interval.iloc[0]), 2)\n",
    "new_investment_pnl_upper_bound = round(increased_initial_investment + (increased_initial_investment * thirty_year_confidence_interval.iloc[1]), 2)\n",
    "\n",
    "# Calculate values of withdraw rate for 90% confidence returns and 10th percentile returns with a 50% increase\n",
    "new_ninetieth_lower_withdraw = round((new_investment_pnl_lower_bound * withdraw_rate), 2)\n",
    "new_ninetieth_upper_withdraw = round((new_investment_pnl_upper_bound * withdraw_rate), 2)\n",
    "new_tenth_percentile_withdraw = round((new_tenth_percentile_investment * withdraw_rate), 2)\n",
    "\n",
    "# Print the results\n",
    "print(f\"There is a 90% chance that with an updated initial investment of $30,000 in the portfolio\"\n",
    "      f\" over the next 30 years will end within the range of\"\n",
    "      f\" ${new_investment_pnl_lower_bound} and ${new_investment_pnl_upper_bound}\"\n",
    "      f\" with a lower withdraw value of ${new_ninetieth_lower_withdraw} and upper of ${new_ninetieth_upper_withdraw},\"\n",
    "      f\" both at 4%.\"\n",
    "      f\" Therefore, the lower limit will still not exceed the new return at the 10th percentile of\"\n",
    "      f\" ${new_tenth_percentile_investment}, after also having been increased to\"\n",
    "      f\" ${new_tenth_percentile_withdraw}, but the upper limit still will.\")"
   ]
  },
  {
   "cell_type": "markdown",
   "metadata": {},
   "source": [
    "### Optional Challenge\n",
    "\n",
    "In this section, you will calculate and plot the cumulative returns for the median and 90% confidence intervals. This plot shows the expected cumulative returns for any given day between the first day and the last day of investment. "
   ]
  },
  {
   "cell_type": "code",
   "execution_count": null,
   "metadata": {},
   "outputs": [],
   "source": [
    "# YOUR CODE HERE"
   ]
  }
 ],
 "metadata": {
  "kernel_info": {
   "name": "dev"
  },
  "kernelspec": {
   "display_name": "Python 3",
   "language": "python",
   "name": "python3"
  },
  "language_info": {
   "codemirror_mode": {
    "name": "ipython",
    "version": 3
   },
   "file_extension": ".py",
   "mimetype": "text/x-python",
   "name": "python",
   "nbconvert_exporter": "python",
   "pygments_lexer": "ipython3",
   "version": "3.7.3"
  },
  "nteract": {
   "version": "0.12.3"
  }
 },
 "nbformat": 4,
 "nbformat_minor": 2
}
