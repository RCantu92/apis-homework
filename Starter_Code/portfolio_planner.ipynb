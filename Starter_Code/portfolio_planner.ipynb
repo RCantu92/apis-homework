{
 "cells": [
  {
   "cell_type": "code",
   "execution_count": 1,
   "metadata": {
    "collapsed": true
   },
   "outputs": [],
   "source": [
    "import numpy as np\n",
    "import pandas as pd\n",
    "from datetime import datetime, timedelta\n",
    "import matplotlib.pyplot as plt\n",
    "%matplotlib inline"
   ]
  },
  {
   "cell_type": "code",
   "execution_count": 2,
   "metadata": {},
   "outputs": [],
   "source": [
    "np.random.seed(42)"
   ]
  },
  {
   "cell_type": "markdown",
   "metadata": {},
   "source": [
    "# Portfolio Planner\n",
    "\n",
    "In this activity, you will use the iedfinance api to grab historical data for a 60/40 portfolio using `SPY` to represent the stock portion and `AGG` to represent the bonds."
   ]
  },
  {
   "cell_type": "code",
   "execution_count": 3,
   "metadata": {
    "collapsed": true
   },
   "outputs": [],
   "source": [
    "from iexfinance.stocks import get_historical_data\n",
    "import iexfinance as iex"
   ]
  },
  {
   "cell_type": "markdown",
   "metadata": {},
   "source": [
    "# Data Collection\n",
    "\n",
    "In this step, you will need to use the IEX api to fetch closing prices for the `SPY` and `AGG` tickers. Save the results as a pandas DataFrame"
   ]
  },
  {
   "cell_type": "code",
   "execution_count": 4,
   "metadata": {
    "collapsed": true
   },
   "outputs": [
    {
     "data": {
      "text/html": [
       "<div>\n",
       "<style scoped>\n",
       "    .dataframe tbody tr th:only-of-type {\n",
       "        vertical-align: middle;\n",
       "    }\n",
       "\n",
       "    .dataframe tbody tr th {\n",
       "        vertical-align: top;\n",
       "    }\n",
       "\n",
       "    .dataframe thead tr th {\n",
       "        text-align: left;\n",
       "    }\n",
       "\n",
       "    .dataframe thead tr:last-of-type th {\n",
       "        text-align: right;\n",
       "    }\n",
       "</style>\n",
       "<table border=\"1\" class=\"dataframe\">\n",
       "  <thead>\n",
       "    <tr>\n",
       "      <th></th>\n",
       "      <th colspan=\"5\" halign=\"left\">SPY</th>\n",
       "      <th colspan=\"5\" halign=\"left\">AGG</th>\n",
       "    </tr>\n",
       "    <tr>\n",
       "      <th></th>\n",
       "      <th>open</th>\n",
       "      <th>high</th>\n",
       "      <th>low</th>\n",
       "      <th>close</th>\n",
       "      <th>volume</th>\n",
       "      <th>open</th>\n",
       "      <th>high</th>\n",
       "      <th>low</th>\n",
       "      <th>close</th>\n",
       "      <th>volume</th>\n",
       "    </tr>\n",
       "    <tr>\n",
       "      <th>date</th>\n",
       "      <th></th>\n",
       "      <th></th>\n",
       "      <th></th>\n",
       "      <th></th>\n",
       "      <th></th>\n",
       "      <th></th>\n",
       "      <th></th>\n",
       "      <th></th>\n",
       "      <th></th>\n",
       "      <th></th>\n",
       "    </tr>\n",
       "  </thead>\n",
       "  <tbody>\n",
       "    <tr>\n",
       "      <th>2018-09-04</th>\n",
       "      <td>289.84</td>\n",
       "      <td>290.21</td>\n",
       "      <td>288.68</td>\n",
       "      <td>289.81</td>\n",
       "      <td>57594367</td>\n",
       "      <td>106.02</td>\n",
       "      <td>106.12</td>\n",
       "      <td>105.98</td>\n",
       "      <td>106.06</td>\n",
       "      <td>3164000</td>\n",
       "    </tr>\n",
       "    <tr>\n",
       "      <th>2018-09-05</th>\n",
       "      <td>289.41</td>\n",
       "      <td>289.64</td>\n",
       "      <td>287.89</td>\n",
       "      <td>289.03</td>\n",
       "      <td>72452437</td>\n",
       "      <td>106.05</td>\n",
       "      <td>106.08</td>\n",
       "      <td>105.96</td>\n",
       "      <td>106.01</td>\n",
       "      <td>2788329</td>\n",
       "    </tr>\n",
       "    <tr>\n",
       "      <th>2018-09-06</th>\n",
       "      <td>289.15</td>\n",
       "      <td>289.49</td>\n",
       "      <td>287.00</td>\n",
       "      <td>288.16</td>\n",
       "      <td>65909863</td>\n",
       "      <td>106.09</td>\n",
       "      <td>106.27</td>\n",
       "      <td>106.09</td>\n",
       "      <td>106.19</td>\n",
       "      <td>2248481</td>\n",
       "    </tr>\n",
       "    <tr>\n",
       "      <th>2018-09-07</th>\n",
       "      <td>286.98</td>\n",
       "      <td>288.70</td>\n",
       "      <td>286.71</td>\n",
       "      <td>287.60</td>\n",
       "      <td>73524824</td>\n",
       "      <td>105.92</td>\n",
       "      <td>105.94</td>\n",
       "      <td>105.81</td>\n",
       "      <td>105.81</td>\n",
       "      <td>2571740</td>\n",
       "    </tr>\n",
       "    <tr>\n",
       "      <th>2018-09-10</th>\n",
       "      <td>288.74</td>\n",
       "      <td>289.04</td>\n",
       "      <td>287.88</td>\n",
       "      <td>288.10</td>\n",
       "      <td>50210903</td>\n",
       "      <td>105.85</td>\n",
       "      <td>105.95</td>\n",
       "      <td>105.85</td>\n",
       "      <td>105.91</td>\n",
       "      <td>3305683</td>\n",
       "    </tr>\n",
       "  </tbody>\n",
       "</table>\n",
       "</div>"
      ],
      "text/plain": [
       "               SPY                                       AGG                  \\\n",
       "              open    high     low   close    volume    open    high     low   \n",
       "date                                                                           \n",
       "2018-09-04  289.84  290.21  288.68  289.81  57594367  106.02  106.12  105.98   \n",
       "2018-09-05  289.41  289.64  287.89  289.03  72452437  106.05  106.08  105.96   \n",
       "2018-09-06  289.15  289.49  287.00  288.16  65909863  106.09  106.27  106.09   \n",
       "2018-09-07  286.98  288.70  286.71  287.60  73524824  105.92  105.94  105.81   \n",
       "2018-09-10  288.74  289.04  287.88  288.10  50210903  105.85  105.95  105.85   \n",
       "\n",
       "                             \n",
       "             close   volume  \n",
       "date                         \n",
       "2018-09-04  106.06  3164000  \n",
       "2018-09-05  106.01  2788329  \n",
       "2018-09-06  106.19  2248481  \n",
       "2018-09-07  105.81  2571740  \n",
       "2018-09-10  105.91  3305683  "
      ]
     },
     "execution_count": 4,
     "metadata": {},
     "output_type": "execute_result"
    }
   ],
   "source": [
    "# Set the tickers\n",
    "list_of_tickers = [\"SPY\", \"AGG\"]\n",
    "# YOUR CODE HERE\n",
    "\n",
    "# Set start and end datetimes of 1 year, between now and 365 days ago.\n",
    "end_date = datetime.now()\n",
    "start_date = end_date + timedelta(-365)\n",
    "\n",
    "# Get historical data for SPY and AGG and print preview\n",
    "tickers_df = get_historical_data(list_of_tickers, start_date, end_date,  output_format='pandas')\n",
    "tickers_df.head()"
   ]
  },
  {
   "cell_type": "markdown",
   "metadata": {},
   "source": [
    "# Monte Carlo Simulation\n",
    "\n",
    "In this step, you will run Monte Carlo Simulations for your portfolio to model portfolio performance at different retirement ages. \n",
    "\n",
    "Complete the following steps:\n",
    "1. Calculate the daily returns for the SPY and AGG closing prices.\n",
    "2. Calculate volatility for both the SPY and AGG closing prices.\n",
    "3. Find the last day's closing price for both stocks and save those as variables.\n",
    "4. Run a Monte Carlo Simulation of at least 100 iterations and generate at least 20 years of closing prices\n",
    "\n",
    "### HINTS:\n",
    "There are 252 trading days per year, so the number of records to generate for each Monte Carlo run will be 252 days * 20 years"
   ]
  },
  {
   "cell_type": "code",
   "execution_count": 5,
   "metadata": {},
   "outputs": [
    {
     "data": {
      "text/html": [
       "<div>\n",
       "<style scoped>\n",
       "    .dataframe tbody tr th:only-of-type {\n",
       "        vertical-align: middle;\n",
       "    }\n",
       "\n",
       "    .dataframe tbody tr th {\n",
       "        vertical-align: top;\n",
       "    }\n",
       "\n",
       "    .dataframe thead tr th {\n",
       "        text-align: left;\n",
       "    }\n",
       "\n",
       "    .dataframe thead tr:last-of-type th {\n",
       "        text-align: right;\n",
       "    }\n",
       "</style>\n",
       "<table border=\"1\" class=\"dataframe\">\n",
       "  <thead>\n",
       "    <tr>\n",
       "      <th></th>\n",
       "      <th>SPY</th>\n",
       "      <th>AGG</th>\n",
       "    </tr>\n",
       "    <tr>\n",
       "      <th></th>\n",
       "      <th>close</th>\n",
       "      <th>close</th>\n",
       "    </tr>\n",
       "    <tr>\n",
       "      <th>date</th>\n",
       "      <th></th>\n",
       "      <th></th>\n",
       "    </tr>\n",
       "  </thead>\n",
       "  <tbody>\n",
       "    <tr>\n",
       "      <th>2018-09-05</th>\n",
       "      <td>-0.002691</td>\n",
       "      <td>-0.000471</td>\n",
       "    </tr>\n",
       "    <tr>\n",
       "      <th>2018-09-06</th>\n",
       "      <td>-0.003010</td>\n",
       "      <td>0.001698</td>\n",
       "    </tr>\n",
       "    <tr>\n",
       "      <th>2018-09-07</th>\n",
       "      <td>-0.001943</td>\n",
       "      <td>-0.003578</td>\n",
       "    </tr>\n",
       "    <tr>\n",
       "      <th>2018-09-10</th>\n",
       "      <td>0.001739</td>\n",
       "      <td>0.000945</td>\n",
       "    </tr>\n",
       "    <tr>\n",
       "      <th>2018-09-11</th>\n",
       "      <td>0.003297</td>\n",
       "      <td>-0.001700</td>\n",
       "    </tr>\n",
       "  </tbody>\n",
       "</table>\n",
       "</div>"
      ],
      "text/plain": [
       "                 SPY       AGG\n",
       "               close     close\n",
       "date                          \n",
       "2018-09-05 -0.002691 -0.000471\n",
       "2018-09-06 -0.003010  0.001698\n",
       "2018-09-07 -0.001943 -0.003578\n",
       "2018-09-10  0.001739  0.000945\n",
       "2018-09-11  0.003297 -0.001700"
      ]
     },
     "execution_count": 5,
     "metadata": {},
     "output_type": "execute_result"
    }
   ],
   "source": [
    "# Calculate the daily roi for the stocks\n",
    "# YOUR CODE HERE\n",
    "\n",
    "# Use the `drop` function with the `level` parameter to drop extra columns in the multi-index DataFrame\n",
    "tickers_df.drop(columns=['open', 'high', 'low', 'volume'], level=1, inplace=True)\n",
    "\n",
    "# Use the 'pct_change' function to calculate daily returns of SPY and AGG and drop nulls with 'dropna'\n",
    "# and print preview\n",
    "daily_roi = tickers_df.pct_change().dropna()\n",
    "daily_roi.head()"
   ]
  },
  {
   "cell_type": "code",
   "execution_count": 6,
   "metadata": {
    "collapsed": true
   },
   "outputs": [
    {
     "data": {
      "text/plain": [
       "0.01056675513919183"
      ]
     },
     "execution_count": 6,
     "metadata": {},
     "output_type": "execute_result"
    }
   ],
   "source": [
    "# Calculate volatility\n",
    "# YOUR CODE HERE\n",
    "\n",
    "# Use the 'std' function to calculate the standard deviation of daily returns for SPY and AGG\n",
    "std_dev_daily_roi_spy = daily_roi.std()['SPY']['close']\n",
    "std_dev_daily_roi_agg = daily_roi.std()['AGG']['close']\n",
    "\n",
    "# Print standard deviation for SPY\n",
    "std_dev_daily_roi_spy"
   ]
  },
  {
   "cell_type": "code",
   "execution_count": 7,
   "metadata": {},
   "outputs": [
    {
     "data": {
      "text/plain": [
       "0.0018363249176875033"
      ]
     },
     "execution_count": 7,
     "metadata": {},
     "output_type": "execute_result"
    }
   ],
   "source": [
    "# Print standard deviation for AGG\n",
    "std_dev_daily_roi_agg"
   ]
  },
  {
   "cell_type": "code",
   "execution_count": 8,
   "metadata": {},
   "outputs": [
    {
     "data": {
      "text/html": [
       "<div>\n",
       "<style scoped>\n",
       "    .dataframe tbody tr th:only-of-type {\n",
       "        vertical-align: middle;\n",
       "    }\n",
       "\n",
       "    .dataframe tbody tr th {\n",
       "        vertical-align: top;\n",
       "    }\n",
       "\n",
       "    .dataframe thead tr th {\n",
       "        text-align: left;\n",
       "    }\n",
       "\n",
       "    .dataframe thead tr:last-of-type th {\n",
       "        text-align: right;\n",
       "    }\n",
       "</style>\n",
       "<table border=\"1\" class=\"dataframe\">\n",
       "  <thead>\n",
       "    <tr>\n",
       "      <th></th>\n",
       "      <th>SPY</th>\n",
       "      <th>AGG</th>\n",
       "    </tr>\n",
       "    <tr>\n",
       "      <th></th>\n",
       "      <th>close</th>\n",
       "      <th>close</th>\n",
       "    </tr>\n",
       "    <tr>\n",
       "      <th>date</th>\n",
       "      <th></th>\n",
       "      <th></th>\n",
       "    </tr>\n",
       "  </thead>\n",
       "  <tbody>\n",
       "    <tr>\n",
       "      <th>2019-08-26</th>\n",
       "      <td>288.00</td>\n",
       "      <td>113.73</td>\n",
       "    </tr>\n",
       "    <tr>\n",
       "      <th>2019-08-27</th>\n",
       "      <td>286.87</td>\n",
       "      <td>114.09</td>\n",
       "    </tr>\n",
       "    <tr>\n",
       "      <th>2019-08-28</th>\n",
       "      <td>288.89</td>\n",
       "      <td>114.10</td>\n",
       "    </tr>\n",
       "    <tr>\n",
       "      <th>2019-08-29</th>\n",
       "      <td>292.58</td>\n",
       "      <td>114.03</td>\n",
       "    </tr>\n",
       "    <tr>\n",
       "      <th>2019-08-30</th>\n",
       "      <td>292.45</td>\n",
       "      <td>114.13</td>\n",
       "    </tr>\n",
       "  </tbody>\n",
       "</table>\n",
       "</div>"
      ],
      "text/plain": [
       "               SPY     AGG\n",
       "             close   close\n",
       "date                      \n",
       "2019-08-26  288.00  113.73\n",
       "2019-08-27  286.87  114.09\n",
       "2019-08-28  288.89  114.10\n",
       "2019-08-29  292.58  114.03\n",
       "2019-08-30  292.45  114.13"
      ]
     },
     "execution_count": 8,
     "metadata": {},
     "output_type": "execute_result"
    }
   ],
   "source": [
    "# Print 'tail' of ticker DataFrame for comparison for last closing price\n",
    "tickers_df.tail()"
   ]
  },
  {
   "cell_type": "code",
   "execution_count": 9,
   "metadata": {
    "collapsed": true
   },
   "outputs": [
    {
     "data": {
      "text/plain": [
       "292.45"
      ]
     },
     "execution_count": 9,
     "metadata": {},
     "output_type": "execute_result"
    }
   ],
   "source": [
    "# Save the last day's closing price\n",
    "# YOUR CODE HERE\n",
    "\n",
    "# Set last closing prices of SPY and AGG\n",
    "spy_last_price = tickers_df['SPY']['close'][-1]\n",
    "agg_last_price = tickers_df['AGG']['close'][-1]\n",
    "\n",
    "# Compare last closing price of SPY to ticker DataFrame\n",
    "spy_last_price"
   ]
  },
  {
   "cell_type": "code",
   "execution_count": 10,
   "metadata": {},
   "outputs": [
    {
     "data": {
      "text/plain": [
       "114.13"
      ]
     },
     "execution_count": 10,
     "metadata": {},
     "output_type": "execute_result"
    }
   ],
   "source": [
    "# Compare last closing price of AGG to ticker DataFrame\n",
    "agg_last_price"
   ]
  },
  {
   "cell_type": "code",
   "execution_count": 11,
   "metadata": {
    "collapsed": true
   },
   "outputs": [],
   "source": [
    "# Setup the Monte Carlo Parameters\n",
    "number_simulations = 100\n",
    "number_records = 252 * 30\n",
    "monte_carlo = pd.DataFrame()\n",
    "\n",
    "# Initialize empty DataFrame to hold simulated prices for each simulation\n",
    "simulated_price_df = pd.DataFrame()\n",
    "portfolio_cumulative_returns = pd.DataFrame()\n",
    "\n",
    "# Use the 'mean' function to calculate the mean of daily returns for SPY and AGG\n",
    "avg_daily_roi_spy = daily_roi.mean()['SPY']['close']\n",
    "avg_daily_roi_agg = daily_roi.mean()['AGG']['close']"
   ]
  },
  {
   "cell_type": "code",
   "execution_count": 12,
   "metadata": {},
   "outputs": [
    {
     "data": {
      "text/html": [
       "<div>\n",
       "<style scoped>\n",
       "    .dataframe tbody tr th:only-of-type {\n",
       "        vertical-align: middle;\n",
       "    }\n",
       "\n",
       "    .dataframe tbody tr th {\n",
       "        vertical-align: top;\n",
       "    }\n",
       "\n",
       "    .dataframe thead th {\n",
       "        text-align: right;\n",
       "    }\n",
       "</style>\n",
       "<table border=\"1\" class=\"dataframe\">\n",
       "  <thead>\n",
       "    <tr style=\"text-align: right;\">\n",
       "      <th></th>\n",
       "      <th>0</th>\n",
       "      <th>1</th>\n",
       "      <th>2</th>\n",
       "      <th>3</th>\n",
       "      <th>4</th>\n",
       "      <th>5</th>\n",
       "      <th>6</th>\n",
       "      <th>7</th>\n",
       "      <th>8</th>\n",
       "      <th>9</th>\n",
       "      <th>...</th>\n",
       "      <th>90</th>\n",
       "      <th>91</th>\n",
       "      <th>92</th>\n",
       "      <th>93</th>\n",
       "      <th>94</th>\n",
       "      <th>95</th>\n",
       "      <th>96</th>\n",
       "      <th>97</th>\n",
       "      <th>98</th>\n",
       "      <th>99</th>\n",
       "    </tr>\n",
       "  </thead>\n",
       "  <tbody>\n",
       "    <tr>\n",
       "      <th>0</th>\n",
       "      <td>1.000000</td>\n",
       "      <td>1.000000</td>\n",
       "      <td>1.000000</td>\n",
       "      <td>1.000000</td>\n",
       "      <td>1.000000</td>\n",
       "      <td>1.000000</td>\n",
       "      <td>1.000000</td>\n",
       "      <td>1.000000</td>\n",
       "      <td>1.000000</td>\n",
       "      <td>1.000000</td>\n",
       "      <td>...</td>\n",
       "      <td>1.000000</td>\n",
       "      <td>1.000000</td>\n",
       "      <td>1.000000</td>\n",
       "      <td>1.000000</td>\n",
       "      <td>1.000000</td>\n",
       "      <td>1.000000</td>\n",
       "      <td>1.000000</td>\n",
       "      <td>1.000000</td>\n",
       "      <td>1.000000</td>\n",
       "      <td>1.000000</td>\n",
       "    </tr>\n",
       "    <tr>\n",
       "      <th>1</th>\n",
       "      <td>1.003221</td>\n",
       "      <td>0.993751</td>\n",
       "      <td>0.990608</td>\n",
       "      <td>0.998577</td>\n",
       "      <td>1.005994</td>\n",
       "      <td>1.009237</td>\n",
       "      <td>1.012354</td>\n",
       "      <td>0.993407</td>\n",
       "      <td>1.001867</td>\n",
       "      <td>0.998779</td>\n",
       "      <td>...</td>\n",
       "      <td>1.000518</td>\n",
       "      <td>1.001817</td>\n",
       "      <td>0.993328</td>\n",
       "      <td>1.001643</td>\n",
       "      <td>0.990308</td>\n",
       "      <td>0.996410</td>\n",
       "      <td>1.010720</td>\n",
       "      <td>1.011391</td>\n",
       "      <td>1.009121</td>\n",
       "      <td>1.012374</td>\n",
       "    </tr>\n",
       "    <tr>\n",
       "      <th>2</th>\n",
       "      <td>1.008638</td>\n",
       "      <td>0.998116</td>\n",
       "      <td>0.988758</td>\n",
       "      <td>0.997502</td>\n",
       "      <td>1.010094</td>\n",
       "      <td>0.996529</td>\n",
       "      <td>1.004644</td>\n",
       "      <td>0.979220</td>\n",
       "      <td>1.000351</td>\n",
       "      <td>1.009833</td>\n",
       "      <td>...</td>\n",
       "      <td>0.995297</td>\n",
       "      <td>1.005965</td>\n",
       "      <td>0.984266</td>\n",
       "      <td>0.995542</td>\n",
       "      <td>0.988851</td>\n",
       "      <td>0.990480</td>\n",
       "      <td>1.002103</td>\n",
       "      <td>1.012542</td>\n",
       "      <td>1.007085</td>\n",
       "      <td>1.016801</td>\n",
       "    </tr>\n",
       "    <tr>\n",
       "      <th>3</th>\n",
       "      <td>1.007142</td>\n",
       "      <td>0.997742</td>\n",
       "      <td>0.992992</td>\n",
       "      <td>0.989107</td>\n",
       "      <td>1.008889</td>\n",
       "      <td>1.000757</td>\n",
       "      <td>1.009043</td>\n",
       "      <td>0.971239</td>\n",
       "      <td>0.999582</td>\n",
       "      <td>1.019691</td>\n",
       "      <td>...</td>\n",
       "      <td>1.002073</td>\n",
       "      <td>1.002261</td>\n",
       "      <td>0.975127</td>\n",
       "      <td>1.001523</td>\n",
       "      <td>0.984702</td>\n",
       "      <td>0.991293</td>\n",
       "      <td>0.995296</td>\n",
       "      <td>1.013284</td>\n",
       "      <td>1.008501</td>\n",
       "      <td>1.026076</td>\n",
       "    </tr>\n",
       "    <tr>\n",
       "      <th>4</th>\n",
       "      <td>1.017969</td>\n",
       "      <td>1.000967</td>\n",
       "      <td>0.987328</td>\n",
       "      <td>0.996057</td>\n",
       "      <td>1.009929</td>\n",
       "      <td>0.993268</td>\n",
       "      <td>1.006468</td>\n",
       "      <td>0.967584</td>\n",
       "      <td>1.009574</td>\n",
       "      <td>1.005089</td>\n",
       "      <td>...</td>\n",
       "      <td>1.008298</td>\n",
       "      <td>0.999644</td>\n",
       "      <td>0.973653</td>\n",
       "      <td>1.006288</td>\n",
       "      <td>0.975827</td>\n",
       "      <td>0.993880</td>\n",
       "      <td>0.983964</td>\n",
       "      <td>1.014544</td>\n",
       "      <td>1.012642</td>\n",
       "      <td>1.019982</td>\n",
       "    </tr>\n",
       "  </tbody>\n",
       "</table>\n",
       "<p>5 rows × 100 columns</p>\n",
       "</div>"
      ],
      "text/plain": [
       "         0         1         2         3         4         5         6   \\\n",
       "0  1.000000  1.000000  1.000000  1.000000  1.000000  1.000000  1.000000   \n",
       "1  1.003221  0.993751  0.990608  0.998577  1.005994  1.009237  1.012354   \n",
       "2  1.008638  0.998116  0.988758  0.997502  1.010094  0.996529  1.004644   \n",
       "3  1.007142  0.997742  0.992992  0.989107  1.008889  1.000757  1.009043   \n",
       "4  1.017969  1.000967  0.987328  0.996057  1.009929  0.993268  1.006468   \n",
       "\n",
       "         7         8         9   ...        90        91        92        93  \\\n",
       "0  1.000000  1.000000  1.000000  ...  1.000000  1.000000  1.000000  1.000000   \n",
       "1  0.993407  1.001867  0.998779  ...  1.000518  1.001817  0.993328  1.001643   \n",
       "2  0.979220  1.000351  1.009833  ...  0.995297  1.005965  0.984266  0.995542   \n",
       "3  0.971239  0.999582  1.019691  ...  1.002073  1.002261  0.975127  1.001523   \n",
       "4  0.967584  1.009574  1.005089  ...  1.008298  0.999644  0.973653  1.006288   \n",
       "\n",
       "         94        95        96        97        98        99  \n",
       "0  1.000000  1.000000  1.000000  1.000000  1.000000  1.000000  \n",
       "1  0.990308  0.996410  1.010720  1.011391  1.009121  1.012374  \n",
       "2  0.988851  0.990480  1.002103  1.012542  1.007085  1.016801  \n",
       "3  0.984702  0.991293  0.995296  1.013284  1.008501  1.026076  \n",
       "4  0.975827  0.993880  0.983964  1.014544  1.012642  1.019982  \n",
       "\n",
       "[5 rows x 100 columns]"
      ]
     },
     "execution_count": 12,
     "metadata": {},
     "output_type": "execute_result"
    }
   ],
   "source": [
    "# Run the Monte Carlo Simulation\n",
    "for x in range(number_simulations):\n",
    "    \n",
    "    # YOUR CODE HERE\n",
    "    \n",
    "    # Initialize the simulated prices list with the last closing price of SPY and AGG\n",
    "    simulated_spy_prices = [spy_last_price]\n",
    "    simulated_agg_prices = [agg_last_price]\n",
    "    \n",
    "    # Simulate the returns for 252 days for 30 years\n",
    "    for i in range(number_records):\n",
    "        \n",
    "        # Calculate the simulated price using the last price within the list\n",
    "        simulated_spy_price = simulated_spy_prices[-1] * (1 + np.random.normal(avg_daily_roi_spy, std_dev_daily_roi_spy))\n",
    "        simulated_agg_price = simulated_agg_prices[-1] * (1 + np.random.normal(avg_daily_roi_agg, std_dev_daily_roi_agg))\n",
    "        \n",
    "        # Append the simulated price to the list\n",
    "        simulated_spy_prices.append(simulated_spy_price)\n",
    "        simulated_agg_prices.append(simulated_agg_price)\n",
    "    \n",
    "    # Append a simulated price of each simulation to DataFrame\n",
    "    simulated_price_df[\"SPY prices\"] = pd.Series(simulated_spy_prices)\n",
    "    simulated_price_df[\"AGG prices\"] = pd.Series(simulated_agg_prices)\n",
    "    \n",
    "    # Calculate the daily ROI of simulated prices\n",
    "    simulated_daily_roi = simulated_price_df.pct_change()\n",
    "    \n",
    "    # Set the portfolio weights (60% SPY; 40% AGG)\n",
    "    weights = [0.60, 0.40]\n",
    "\n",
    "    # Use the 'dot' function with the weights to multiply weights with each column's simulated daily ROI\n",
    "    portfolio_daily_roi = simulated_daily_roi.dot(weights)\n",
    "    \n",
    "    # Calculate the normalized, cumulative return series\n",
    "    portfolio_cumulative_returns[x] = (1 + portfolio_daily_roi.fillna(0)).cumprod()\n",
    "\n",
    "# Print records from the DataFrame\n",
    "portfolio_cumulative_returns.head()"
   ]
  },
  {
   "cell_type": "code",
   "execution_count": 13,
   "metadata": {},
   "outputs": [
    {
     "data": {
      "text/plain": [
       "<matplotlib.axes._subplots.AxesSubplot at 0x11155b0f0>"
      ]
     },
     "execution_count": 13,
     "metadata": {},
     "output_type": "execute_result"
    },
    {
     "data": {
      "image/png": "[encoded data removed]",
      "text/plain": [
       "<Figure size 432x288 with 1 Axes>"
      ]
     },
     "metadata": {
      "needs_background": "light"
     },
     "output_type": "display_data"
    }
   ],
   "source": [
    "# Visualize the Simulation\n",
    "# YOUR CODE HERE\n",
    "\n",
    "# Use the 'plot' function to plot 100 simulations of the potential trajectories of the portfolio based on 30 years\n",
    "plot_title = f\"{x+1} Simulations of Cumulative Portfolio Return Trajectories Over 30 years\"\n",
    "portfolio_cumulative_returns.plot(legend=None, title=plot_title)"
   ]
  },
  {
   "cell_type": "code",
   "execution_count": 14,
   "metadata": {},
   "outputs": [
    {
     "data": {
      "text/plain": [
       "0    3.874510\n",
       "1    3.010300\n",
       "2    4.611691\n",
       "3    5.044940\n",
       "4    4.339702\n",
       "Name: 7560, dtype: float64"
      ]
     },
     "execution_count": 14,
     "metadata": {},
     "output_type": "execute_result"
    }
   ],
   "source": [
    "# Select the last row for the cumulative returns (cumulative returns at 30 years)\n",
    "# YOUR CODE HERE\n",
    "\n",
    "# Select the last row for the cumulative returns (30 years)\n",
    "thirty_year_cumulative_returns = portfolio_cumulative_returns.iloc[-1, :]\n",
    "thirty_year_cumulative_returns.head()"
   ]
  },
  {
   "cell_type": "code",
   "execution_count": 15,
   "metadata": {},
   "outputs": [
    {
     "data": {
      "text/plain": [
       "0    1.839849\n",
       "1    2.149292\n",
       "2    1.522442\n",
       "3    2.472095\n",
       "4    2.710964\n",
       "Name: 5039, dtype: float64"
      ]
     },
     "execution_count": 15,
     "metadata": {},
     "output_type": "execute_result"
    }
   ],
   "source": [
    "# Select the last row for the cumulative returns (cumulative returns at 20 years)\n",
    "# YOUR CODE HERE\n",
    "\n",
    "# Select the row for the cumulative returns (20 years)\n",
    "# Pulled up index 5039 (252 trading days * 20 years = 5040, -1 since you start at zero)\n",
    "twenty_year_cumulative_returns = portfolio_cumulative_returns.iloc[5039, :]\n",
    "twenty_year_cumulative_returns.head()"
   ]
  },
  {
   "cell_type": "code",
   "execution_count": 16,
   "metadata": {},
   "outputs": [
    {
     "data": {
      "text/plain": [
       "0.05    0.877266\n",
       "0.95    3.908105\n",
       "Name: 5039, dtype: float64"
      ]
     },
     "execution_count": 16,
     "metadata": {},
     "output_type": "execute_result"
    }
   ],
   "source": [
    "# Display the 90% confidence interval for the ending returns\n",
    "# YOUR CODE HERE\n",
    "\n",
    "# 'quantile' function to calculate the 90% confidence interval for cumulative returns and print\n",
    "confidence_interval = twenty_year_cumulative_returns.quantile(q=[0.05, 0.95])\n",
    "confidence_interval"
   ]
  },
  {
   "cell_type": "code",
   "execution_count": 17,
   "metadata": {},
   "outputs": [
    {
     "data": {
      "text/plain": [
       "<matplotlib.lines.Line2D at 0x12488fba8>"
      ]
     },
     "execution_count": 17,
     "metadata": {},
     "output_type": "execute_result"
    },
    {
     "data": {
      "image/png": "[encoded data removed]",
      "text/plain": [
       "<Figure size 432x288 with 1 Axes>"
      ]
     },
     "metadata": {
      "needs_background": "light"
     },
     "output_type": "display_data"
    }
   ],
   "source": [
    "# Visualize the distribution of the ending returns\n",
    "# YOUR CODE HERE\n",
    "\n",
    "# 'plot' function to create a probability distribution histogram of cumulative returns\n",
    "# with markings for a 90% confidence interval\n",
    "plt.figure();\n",
    "twenty_year_cumulative_returns.plot(kind='hist', density=True, bins=10)\n",
    "plt.axvline(confidence_interval.iloc[0], color='r')\n",
    "plt.axvline(confidence_interval.iloc[1], color='r')"
   ]
  },
  {
   "cell_type": "markdown",
   "metadata": {},
   "source": [
    "---"
   ]
  },
  {
   "cell_type": "markdown",
   "metadata": {},
   "source": [
    "# Retirement Analysis\n",
    "\n",
    "In this section, you will use the monte carlo model to answer the following retirement planning questions:\n",
    "\n",
    "1. What are the expected cumulative returns at 30 years for the 10th, 50th, and 90th percentiles?\n",
    "2. Given an initial investment of `$20,000`, what is the expected portfolio return in dollars at the 10th, 50th, and 90th percentiles?\n",
    "3. Given the current projected annual income from the Plaid analysis, will a 4% withdraw rate from the retirement portfolio meet or exceed that value at the 10th percentile?\n",
    "4. How would a 50% increase in the initial investment amount affect the 4% retirement withdrawal?"
   ]
  },
  {
   "cell_type": "markdown",
   "metadata": {},
   "source": [
    "### What are the expected cumulative returns at 30 years for the 10th, 50th, and 90th percentiles?"
   ]
  },
  {
   "cell_type": "code",
   "execution_count": 18,
   "metadata": {},
   "outputs": [
    {
     "data": {
      "text/plain": [
       "1.4289843767932608"
      ]
     },
     "execution_count": 18,
     "metadata": {},
     "output_type": "execute_result"
    }
   ],
   "source": [
    "# YOUR CODE HERE\n",
    "\n",
    "# 'quantile' function to calculate the 10th percentile for cumulative returns and print\n",
    "tenth_percentile = thirty_year_cumulative_returns.quantile(q=0.1)\n",
    "tenth_percentile"
   ]
  },
  {
   "cell_type": "code",
   "execution_count": 19,
   "metadata": {},
   "outputs": [
    {
     "data": {
      "text/plain": [
       "3.02211243027877"
      ]
     },
     "execution_count": 19,
     "metadata": {},
     "output_type": "execute_result"
    }
   ],
   "source": [
    "# 'quantile' function to calculate the 50th percentile for cumulative returns and print\n",
    "fiftieth_percentile = thirty_year_cumulative_returns.quantile(q=0.5)\n",
    "fiftieth_percentile"
   ]
  },
  {
   "cell_type": "code",
   "execution_count": 20,
   "metadata": {},
   "outputs": [
    {
     "data": {
      "text/plain": [
       "5.254527843743952"
      ]
     },
     "execution_count": 20,
     "metadata": {},
     "output_type": "execute_result"
    }
   ],
   "source": [
    "# 'quantile' function to calculate the 90th percentile for cumulative returns and print\n",
    "ninetieth_percentile = thirty_year_cumulative_returns.quantile(q=0.9)\n",
    "ninetieth_percentile"
   ]
  },
  {
   "cell_type": "markdown",
   "metadata": {},
   "source": [
    "### Given an initial investment of `$20,000`, what is the expected portfolio return in dollars at the 10th, 50th, and 90th percentiles?"
   ]
  },
  {
   "cell_type": "code",
   "execution_count": 26,
   "metadata": {},
   "outputs": [
    {
     "name": "stdout",
     "output_type": "stream",
     "text": [
      "Given an initial investment of $20,000 in the portfolio over the next 30 years, the return at the 10th percentile would be $48579.69\n"
     ]
    }
   ],
   "source": [
    "# YOUR CODE HERE\n",
    "\n",
    "# Set initial investment\n",
    "initial_investment = 20000\n",
    "\n",
    "# Calculate portfolio amount at 10th percentile return\n",
    "tenth_percentile_investment = round(initial_investment + (initial_investment * tenth_percentile), 2)\n",
    "                                                    \n",
    "# Print the results\n",
    "print(f\"Given an initial investment of $20,000 in the portfolio\"\n",
    "      f\" over the next 30 years, the return at the 10th percentile would \"\n",
    "      f\"be ${tenth_percentile_investment}\")"
   ]
  },
  {
   "cell_type": "code",
   "execution_count": 27,
   "metadata": {},
   "outputs": [
    {
     "name": "stdout",
     "output_type": "stream",
     "text": [
      "Given an initial investment of $20,000 in the portfolio over the next 30 years, the return at the 50th percentile would be $80442.25\n"
     ]
    }
   ],
   "source": [
    "# Calculate portfolio amount at 50th percentile return\n",
    "fiftieth_percentile_investment = round(initial_investment + (initial_investment * fiftieth_percentile), 2)\n",
    "                                                    \n",
    "# Print the results\n",
    "print(f\"Given an initial investment of $20,000 in the portfolio\"\n",
    "      f\" over the next 30 years, the return at the 50th percentile would \"\n",
    "      f\"be ${fiftieth_percentile_investment}\")"
   ]
  },
  {
   "cell_type": "code",
   "execution_count": 28,
   "metadata": {},
   "outputs": [
    {
     "name": "stdout",
     "output_type": "stream",
     "text": [
      "Given an initial investment of $20,000 in the portfolio over the next 30 years, the return at the 90th percentile would be $125090.56\n"
     ]
    }
   ],
   "source": [
    "# Calculate portfolio amount at 90th percentile return\n",
    "ninetieth_percentile_investment = round(initial_investment + (initial_investment * ninetieth_percentile), 2)\n",
    "                                                    \n",
    "# Print the results\n",
    "print(f\"Given an initial investment of $20,000 in the portfolio\"\n",
    "      f\" over the next 30 years, the return at the 90th percentile would \"\n",
    "      f\"be ${ninetieth_percentile_investment}\")"
   ]
  },
  {
   "cell_type": "markdown",
   "metadata": {},
   "source": [
    "### Given the current projected annual income from the Plaid analysis, will a 4% withdraw rate from the retirement portfolio meet or exceed that value at the 10th percentile?\n",
    "\n",
    "Note: This is effectively saying that 90% of the expected returns will be greater than the return at the 10th percentile, so this can help measure the uncertainty about having enough funds at retirement"
   ]
  },
  {
   "cell_type": "code",
   "execution_count": 44,
   "metadata": {},
   "outputs": [
    {
     "name": "stdout",
     "output_type": "stream",
     "text": [
      "There is a 90% chance that an initial investment of $20,000 in the portfolio over the next 30 years will end within the range of $37545.32 and $98162.09 with a lower withdraw value of $1501.81 and upper of $3926.48, both at 4%. On the other hand, the updated return at the 10th percentile is $48579.69, with a updated withdraw value of $1943.19 at 4%. Therefore, the lower withdraw value will still not exceed the updated 10th percentile return value but the upper withdraw value will.\n"
     ]
    }
   ],
   "source": [
    "# YOUR CODE HERE\n",
    "\n",
    "# Calculate portfolio amount at 90% confidence return\n",
    "investment_pnl_lower_bound = round(initial_investment + (initial_investment * confidence_interval.iloc[0]), 2)\n",
    "investment_pnl_upper_bound = round(initial_investment + (initial_investment * confidence_interval.iloc[1]), 2)\n",
    "\n",
    "# Initialize variable for withdraw rate\n",
    "withdraw_rate = 0.04\n",
    "\n",
    "# Calculate values of withdraw rate for 90% confidence returns and 10th percentile returns\n",
    "ninetieth_lower_withdraw = round((investment_pnl_lower_bound * withdraw_rate), 2)\n",
    "ninetieth_upper_withdraw = round((investment_pnl_upper_bound * withdraw_rate), 2)\n",
    "tenth_percentile_withdraw = round((tenth_percentile_investment * withdraw_rate), 2)\n",
    "                                                    \n",
    "# Print the results\n",
    "print(f\"There is a 90% chance that an initial investment of $20,000 in the portfolio\"\n",
    "      f\" over the next 30 years will end within the range of\"\n",
    "      f\" ${investment_pnl_lower_bound} and ${investment_pnl_upper_bound}\"\n",
    "      f\" with a lower withdraw value of ${ninetieth_lower_withdraw} and upper of ${ninetieth_upper_withdraw},\"\n",
    "      f\" both at 4%.\"\n",
    "      f\" On the other hand, the return at the 10th percentile is\"\n",
    "      f\" ${tenth_percentile_investment}, with a withdraw value of ${tenth_percentile_withdraw} at 4%.\"\n",
    "      f\" Therefore, the lower withdraw value will still not exceed the 10th percentile return value\"\n",
    "      f\" but the upper withdraw value will.\")"
   ]
  },
  {
   "cell_type": "markdown",
   "metadata": {},
   "source": [
    "### How would a 50% increase in the initial investment amount affect the 4% retirement withdrawal?"
   ]
  },
  {
   "cell_type": "code",
   "execution_count": 45,
   "metadata": {},
   "outputs": [
    {
     "name": "stdout",
     "output_type": "stream",
     "text": [
      "There is a 90% chance that with an updated initial investment of $30,000 in the portfolio over the next 30 years will end within the range of $56317.98 and $147243.14 with a lower withdraw value of $2252.72 and upper of $5889.73, both at 4%. Therefore, the lower limit will still not exceed the new return at the 10th percentile of $72869.53, after also having been increased to $2914.78, but the upper limit will.\n"
     ]
    }
   ],
   "source": [
    "# YOUR CODE HERE\n",
    "\n",
    "# Set initial investment with a 50% increase\n",
    "increased_initial_investment = 30000\n",
    "\n",
    "# Calculate portfolio amount at 10th percentile return with a 50% increase\n",
    "new_tenth_percentile_investment = round(increased_initial_investment + (increased_initial_investment * tenth_percentile), 2)\n",
    "                                                    \n",
    "# Calculate portfolio amount at 90% confidence return with a 50% increase\n",
    "new_investment_pnl_lower_bound = round(increased_initial_investment + (increased_initial_investment * confidence_interval.iloc[0]), 2)\n",
    "new_investment_pnl_upper_bound = round(increased_initial_investment + (increased_initial_investment * confidence_interval.iloc[1]), 2)\n",
    "\n",
    "# Calculate values of withdraw rate for 90% confidence returns and 10th percentile returns with a 50% increase\n",
    "new_ninetieth_lower_withdraw = round((new_investment_pnl_lower_bound * withdraw_rate), 2)\n",
    "new_ninetieth_upper_withdraw = round((new_investment_pnl_upper_bound * withdraw_rate), 2)\n",
    "new_tenth_percentile_withdraw = round((new_tenth_percentile_investment * withdraw_rate), 2)\n",
    "\n",
    "# Print the results\n",
    "print(f\"There is a 90% chance that with an updated initial investment of $30,000 in the portfolio\"\n",
    "      f\" over the next 30 years will end within the range of\"\n",
    "      f\" ${new_investment_pnl_lower_bound} and ${new_investment_pnl_upper_bound}\"\n",
    "      f\" with a lower withdraw value of ${new_ninetieth_lower_withdraw} and upper of ${new_ninetieth_upper_withdraw},\"\n",
    "      f\" both at 4%.\"\n",
    "      f\" Therefore, the lower limit will still not exceed the new return at the 10th percentile of\"\n",
    "      f\" ${new_tenth_percentile_investment}, after also having been increased to\"\n",
    "      f\" ${new_tenth_percentile_withdraw}, but the upper limit still will.\")"
   ]
  },
  {
   "cell_type": "markdown",
   "metadata": {},
   "source": [
    "### Optional Challenge\n",
    "\n",
    "In this section, you will calculate and plot the cumulative returns for the median and 90% confidence intervals. This plot shows the expected cumulative returns for any given day between the first day and the last day of investment. "
   ]
  },
  {
   "cell_type": "code",
   "execution_count": null,
   "metadata": {},
   "outputs": [],
   "source": [
    "# YOUR CODE HERE"
   ]
  }
 ],
 "metadata": {
  "kernel_info": {
   "name": "dev"
  },
  "kernelspec": {
   "display_name": "Python 3",
   "language": "python",
   "name": "python3"
  },
  "language_info": {
   "codemirror_mode": {
    "name": "ipython",
    "version": 3
   },
   "file_extension": ".py",
   "mimetype": "text/x-python",
   "name": "python",
   "nbconvert_exporter": "python",
   "pygments_lexer": "ipython3",
   "version": "3.7.3"
  },
  "nteract": {
   "version": "0.12.3"
  }
 },
 "nbformat": 4,
 "nbformat_minor": 2
}
